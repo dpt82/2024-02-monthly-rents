{
 "cells": [
  {
   "cell_type": "code",
   "execution_count": 1,
   "id": "07a19a5d",
   "metadata": {},
   "outputs": [
    {
     "data": {
      "text/plain": [
       "25.0"
      ]
     },
     "execution_count": 1,
     "metadata": {},
     "output_type": "execute_result"
    }
   ],
   "source": [
    "700 / (900 + 1_200 + 700) * 100"
   ]
  },
  {
   "cell_type": "code",
   "execution_count": 6,
   "id": "6fdd95c4",
   "metadata": {},
   "outputs": [],
   "source": [
    " #monthly incase annual rent calculations are done later on. \n",
    "alfred_monthly_23 = 900\n",
    "fatima_monthly_23 = 1_200\n",
    "trina_monthly_23 = 700"
   ]
  },
  {
   "cell_type": "code",
   "execution_count": 7,
   "id": "a6968525",
   "metadata": {},
   "outputs": [],
   "source": [
    "# can also be assigned like this:\n",
    "alfred_m, fatima_m, trina_m = 900, 1_200, 700"
   ]
  },
  {
   "cell_type": "code",
   "execution_count": 8,
   "id": "9cafbbb1",
   "metadata": {},
   "outputs": [
    {
     "data": {
      "text/plain": [
       "900"
      ]
     },
     "execution_count": 8,
     "metadata": {},
     "output_type": "execute_result"
    }
   ],
   "source": [
    "# call variables:\n",
    "alfred_m\n",
    "# fatima_m\n",
    "# trina_m"
   ]
  },
  {
   "cell_type": "code",
   "execution_count": 9,
   "id": "1df99166",
   "metadata": {},
   "outputs": [
    {
     "data": {
      "text/plain": [
       "25.0"
      ]
     },
     "execution_count": 9,
     "metadata": {},
     "output_type": "execute_result"
    }
   ],
   "source": [
    "trina_monthly_23 / (alfred_monthly_23 + fatima_monthly_23 + trina_monthly_23) * 100"
   ]
  },
  {
   "cell_type": "code",
   "execution_count": 10,
   "id": "9eb32c5a",
   "metadata": {},
   "outputs": [],
   "source": [
    "trina_share_23 = trina_monthly_23 / (alfred_monthly_23 +fatima_monthly_23 + trina_monthly_23) * 100"
   ]
  },
  {
   "cell_type": "code",
   "execution_count": 5,
   "id": "24a6d2ad",
   "metadata": {},
   "outputs": [
    {
     "ename": "NameError",
     "evalue": "name 'trina_monthly_23' is not defined",
     "output_type": "error",
     "traceback": [
      "\u001b[0;31m---------------------------------------------------------------------------\u001b[0m",
      "\u001b[0;31mNameError\u001b[0m                                 Traceback (most recent call last)",
      "Cell \u001b[0;32mIn[5], line 3\u001b[0m\n\u001b[1;32m      1\u001b[0m \u001b[38;5;66;03m# easier to read\u001b[39;00m\n\u001b[1;32m      2\u001b[0m trina_share_23 \u001b[38;5;241m=\u001b[39m \\\n\u001b[0;32m----> 3\u001b[0m trina_monthly_23 \u001b[38;5;241m/\u001b[39m (alfred_monthly_23 \u001b[38;5;241m+\u001b[39m\\\n\u001b[1;32m      4\u001b[0m                     fatima_monthly_23 \u001b[38;5;241m+\u001b[39m\\\n\u001b[1;32m      5\u001b[0m                     trina_monthly_23) \u001b[38;5;241m*\u001b[39m \u001b[38;5;241m100\u001b[39m\n",
      "\u001b[0;31mNameError\u001b[0m: name 'trina_monthly_23' is not defined"
     ]
    }
   ],
   "source": [
    "# easier to read\n",
    "trina_share_23 = \\\n",
    "trina_monthly_23 / (alfred_monthly_23 +\\\n",
    "                    fatima_monthly_23 +\\\n",
    "                    trina_monthly_23) * 100"
   ]
  },
  {
   "cell_type": "code",
   "execution_count": null,
   "id": "b5b71f4d",
   "metadata": {},
   "outputs": [],
   "source": []
  },
  {
   "cell_type": "code",
   "execution_count": null,
   "id": "e151d388",
   "metadata": {},
   "outputs": [],
   "source": []
  }
 ],
 "metadata": {
  "kernelspec": {
   "display_name": "Python 3 (ipykernel)",
   "language": "python",
   "name": "python3"
  },
  "language_info": {
   "codemirror_mode": {
    "name": "ipython",
    "version": 3
   },
   "file_extension": ".py",
   "mimetype": "text/x-python",
   "name": "python",
   "nbconvert_exporter": "python",
   "pygments_lexer": "ipython3",
   "version": "3.11.5"
  }
 },
 "nbformat": 4,
 "nbformat_minor": 5
}
